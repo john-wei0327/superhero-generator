{
 "cells": [
  {
   "cell_type": "code",
   "execution_count": 1,
   "id": "5f3485e9",
   "metadata": {},
   "outputs": [],
   "source": [
    "import tensorflow as tf\n",
    "\n",
    "with open('superheroes.txt') as file:\n",
    "    data = file.read()"
   ]
  },
  {
   "cell_type": "code",
   "execution_count": 2,
   "id": "8e1bad13",
   "metadata": {},
   "outputs": [],
   "source": [
    "tokenizer = tf.keras.preprocessing.text.Tokenizer(\n",
    "    filters='!\"#$%&()*+,-./:;<=>?@[\\\\]^_`{|}~',\n",
    "    split='\\n',\n",
    ")\n",
    "\n",
    "tokenizer.fit_on_texts(data)"
   ]
  },
  {
   "cell_type": "code",
   "execution_count": 3,
   "id": "281e5312",
   "metadata": {},
   "outputs": [
    {
     "data": {
      "text/plain": [
       "[[25], [16], [12], [20], [2], [1]]"
      ]
     },
     "execution_count": 3,
     "metadata": {},
     "output_type": "execute_result"
    }
   ],
   "source": [
    "char_to_index = tokenizer.word_index\n",
    "index_to_char = dict((v, k) for k, v in char_to_index.items())\n",
    "\n",
    "names = data.splitlines()\n",
    "tokenizer.texts_to_sequences(names[0])"
   ]
  },
  {
   "cell_type": "code",
   "execution_count": 4,
   "id": "ce2a6f6d",
   "metadata": {},
   "outputs": [
    {
     "data": {
      "text/plain": [
       "[25, 16, 12, 20, 2, 1]"
      ]
     },
     "execution_count": 4,
     "metadata": {},
     "output_type": "execute_result"
    }
   ],
   "source": [
    "#function to convert name to sequence\n",
    "def name_to_seq(name):\n",
    "  return [tokenizer.texts_to_sequences(c)[0][0] for c in name]\n",
    "\n",
    "name_to_seq(names[0])"
   ]
  },
  {
   "cell_type": "code",
   "execution_count": 5,
   "id": "4f42a74a",
   "metadata": {},
   "outputs": [
    {
     "data": {
      "text/plain": [
       "'jumpa\\t'"
      ]
     },
     "execution_count": 5,
     "metadata": {},
     "output_type": "execute_result"
    }
   ],
   "source": [
    "#function to convert sequence to name\n",
    "def seq_to_name(seq):\n",
    "  return ''.join([index_to_char[i] for i in seq if i!= 0])\n",
    "\n",
    "seq_to_name([25, 16, 12, 20, 2, 1])"
   ]
  },
  {
   "cell_type": "code",
   "execution_count": 6,
   "id": "f0437030",
   "metadata": {},
   "outputs": [],
   "source": [
    "#append each successive character to the sequence to calculate probability of the next character given the current\n",
    "sequences = []\n",
    "\n",
    "for name in names: \n",
    "  seq = name_to_seq(name)\n",
    "  if len(seq) >= 2:\n",
    "    sequences += [seq[:i] for i in range(2, len(seq) + 1)]"
   ]
  },
  {
   "cell_type": "code",
   "execution_count": 7,
   "id": "5c9354e8",
   "metadata": {},
   "outputs": [],
   "source": [
    "#find max length of superhero names\n",
    "max_len = max([len(x) for x in sequences])"
   ]
  },
  {
   "cell_type": "code",
   "execution_count": 8,
   "id": "d7b55ee5",
   "metadata": {},
   "outputs": [],
   "source": [
    "#pads sequences to the same length and transforms the sequence into a 2D array\n",
    "padded_sequences = tf.keras.preprocessing.sequence.pad_sequences(\n",
    "    \n",
    "    #adds 0's before each sequence\n",
    "    sequences, padding = 'pre',\n",
    "    \n",
    "    #sets the length to the length of the longest sequence\n",
    "    maxlen = max_len\n",
    ")\n",
    "\n",
    "x, y = padded_sequences[:,:-1], padded_sequences[:,-1]"
   ]
  },
  {
   "cell_type": "code",
   "execution_count": 9,
   "id": "073fde4e",
   "metadata": {},
   "outputs": [],
   "source": [
    "from sklearn.model_selection import train_test_split\n",
    "\n",
    "x_train, x_test, y_train, y_test = train_test_split(x, y)"
   ]
  },
  {
   "cell_type": "code",
   "execution_count": 10,
   "id": "f11a9ebd",
   "metadata": {},
   "outputs": [],
   "source": [
    "num_chars = len(char_to_index.keys()) + 1"
   ]
  },
  {
   "cell_type": "code",
   "execution_count": 11,
   "id": "d1465cdf",
   "metadata": {},
   "outputs": [
    {
     "name": "stdout",
     "output_type": "stream",
     "text": [
      "Model: \"sequential\"\n",
      "_________________________________________________________________\n",
      " Layer (type)                Output Shape              Param #   \n",
      "=================================================================\n",
      " embedding (Embedding)       (None, 32, 8)             232       \n",
      "                                                                 \n",
      " conv1d (Conv1D)             (None, 32, 64)            2624      \n",
      "                                                                 \n",
      " max_pooling1d (MaxPooling1D  (None, 16, 64)           0         \n",
      " )                                                               \n",
      "                                                                 \n",
      " lstm (LSTM)                 (None, 32)                12416     \n",
      "                                                                 \n",
      " dense (Dense)               (None, 29)                957       \n",
      "                                                                 \n",
      "=================================================================\n",
      "Total params: 16,229\n",
      "Trainable params: 16,229\n",
      "Non-trainable params: 0\n",
      "_________________________________________________________________\n"
     ]
    }
   ],
   "source": [
    "from tensorflow.keras.models import Sequential\n",
    "from tensorflow.keras.layers import Embedding, Conv1D, MaxPool1D, LSTM, Bidirectional, Dense\n",
    "\n",
    "model = Sequential([\n",
    "                    Embedding(num_chars, 8, input_length = max_len - 1),\n",
    "                    Conv1D(64, 5, strides = 1, activation = 'tanh', padding = 'causal'),\n",
    "                    MaxPool1D(2),\n",
    "                    LSTM(32),\n",
    "                    Dense(num_chars, activation = 'softmax')\n",
    "])\n",
    "\n",
    "model.compile(\n",
    "    loss = 'sparse_categorical_crossentropy',\n",
    "    optimizer = 'adam',\n",
    "    metrics = ['accuracy']\n",
    ")\n",
    "\n",
    "model.summary()"
   ]
  },
  {
   "cell_type": "code",
   "execution_count": 12,
   "id": "1936234c",
   "metadata": {},
   "outputs": [
    {
     "name": "stdout",
     "output_type": "stream",
     "text": [
      "Epoch 1/50\n",
      "2070/2070 - 13s - loss: 2.7427 - accuracy: 0.1892 - val_loss: 2.5788 - val_accuracy: 0.2308 - 13s/epoch - 6ms/step\n",
      "Epoch 2/50\n",
      "2070/2070 - 11s - loss: 2.5358 - accuracy: 0.2384 - val_loss: 2.5085 - val_accuracy: 0.2457 - 11s/epoch - 5ms/step\n",
      "Epoch 3/50\n",
      "2070/2070 - 12s - loss: 2.4737 - accuracy: 0.2526 - val_loss: 2.4597 - val_accuracy: 0.2527 - 12s/epoch - 6ms/step\n",
      "Epoch 4/50\n",
      "2070/2070 - 11s - loss: 2.4278 - accuracy: 0.2631 - val_loss: 2.4227 - val_accuracy: 0.2657 - 11s/epoch - 6ms/step\n",
      "Epoch 5/50\n",
      "2070/2070 - 12s - loss: 2.3919 - accuracy: 0.2745 - val_loss: 2.3958 - val_accuracy: 0.2720 - 12s/epoch - 6ms/step\n",
      "Epoch 6/50\n",
      "2070/2070 - 12s - loss: 2.3630 - accuracy: 0.2824 - val_loss: 2.3723 - val_accuracy: 0.2821 - 12s/epoch - 6ms/step\n",
      "Epoch 7/50\n",
      "2070/2070 - 12s - loss: 2.3378 - accuracy: 0.2899 - val_loss: 2.3558 - val_accuracy: 0.2884 - 12s/epoch - 6ms/step\n",
      "Epoch 8/50\n",
      "2070/2070 - 12s - loss: 2.3145 - accuracy: 0.2979 - val_loss: 2.3409 - val_accuracy: 0.2927 - 12s/epoch - 6ms/step\n",
      "Epoch 9/50\n",
      "2070/2070 - 14s - loss: 2.2934 - accuracy: 0.3054 - val_loss: 2.3234 - val_accuracy: 0.2985 - 14s/epoch - 7ms/step\n",
      "Epoch 10/50\n",
      "2070/2070 - 13s - loss: 2.2737 - accuracy: 0.3116 - val_loss: 2.3135 - val_accuracy: 0.3006 - 13s/epoch - 6ms/step\n",
      "Epoch 11/50\n",
      "2070/2070 - 13s - loss: 2.2559 - accuracy: 0.3168 - val_loss: 2.3017 - val_accuracy: 0.3107 - 13s/epoch - 6ms/step\n",
      "Epoch 12/50\n",
      "2070/2070 - 12s - loss: 2.2390 - accuracy: 0.3243 - val_loss: 2.2947 - val_accuracy: 0.3112 - 12s/epoch - 6ms/step\n",
      "Epoch 13/50\n",
      "2070/2070 - 12s - loss: 2.2233 - accuracy: 0.3285 - val_loss: 2.2832 - val_accuracy: 0.3168 - 12s/epoch - 6ms/step\n",
      "Epoch 14/50\n",
      "2070/2070 - 14s - loss: 2.2089 - accuracy: 0.3351 - val_loss: 2.2733 - val_accuracy: 0.3175 - 14s/epoch - 7ms/step\n",
      "Epoch 15/50\n",
      "2070/2070 - 14s - loss: 2.1950 - accuracy: 0.3382 - val_loss: 2.2623 - val_accuracy: 0.3210 - 14s/epoch - 7ms/step\n",
      "Epoch 16/50\n",
      "2070/2070 - 13s - loss: 2.1827 - accuracy: 0.3409 - val_loss: 2.2524 - val_accuracy: 0.3271 - 13s/epoch - 6ms/step\n",
      "Epoch 17/50\n",
      "2070/2070 - 13s - loss: 2.1699 - accuracy: 0.3464 - val_loss: 2.2478 - val_accuracy: 0.3263 - 13s/epoch - 6ms/step\n",
      "Epoch 18/50\n",
      "2070/2070 - 13s - loss: 2.1579 - accuracy: 0.3497 - val_loss: 2.2495 - val_accuracy: 0.3286 - 13s/epoch - 7ms/step\n",
      "Epoch 19/50\n",
      "2070/2070 - 14s - loss: 2.1470 - accuracy: 0.3518 - val_loss: 2.2347 - val_accuracy: 0.3314 - 14s/epoch - 7ms/step\n",
      "Epoch 20/50\n",
      "2070/2070 - 15s - loss: 2.1365 - accuracy: 0.3547 - val_loss: 2.2327 - val_accuracy: 0.3305 - 15s/epoch - 7ms/step\n",
      "Epoch 21/50\n",
      "2070/2070 - 15s - loss: 2.1273 - accuracy: 0.3579 - val_loss: 2.2313 - val_accuracy: 0.3324 - 15s/epoch - 7ms/step\n",
      "Epoch 22/50\n",
      "2070/2070 - 14s - loss: 2.1172 - accuracy: 0.3632 - val_loss: 2.2244 - val_accuracy: 0.3359 - 14s/epoch - 7ms/step\n",
      "Epoch 23/50\n",
      "2070/2070 - 13s - loss: 2.1082 - accuracy: 0.3654 - val_loss: 2.2219 - val_accuracy: 0.3372 - 13s/epoch - 6ms/step\n",
      "Epoch 24/50\n",
      "2070/2070 - 14s - loss: 2.0996 - accuracy: 0.3667 - val_loss: 2.2208 - val_accuracy: 0.3362 - 14s/epoch - 7ms/step\n",
      "Epoch 25/50\n",
      "2070/2070 - 14s - loss: 2.0915 - accuracy: 0.3700 - val_loss: 2.2177 - val_accuracy: 0.3421 - 14s/epoch - 7ms/step\n",
      "Epoch 26/50\n",
      "2070/2070 - 13s - loss: 2.0831 - accuracy: 0.3723 - val_loss: 2.2127 - val_accuracy: 0.3429 - 13s/epoch - 6ms/step\n",
      "Epoch 27/50\n",
      "2070/2070 - 15s - loss: 2.0766 - accuracy: 0.3763 - val_loss: 2.2159 - val_accuracy: 0.3413 - 15s/epoch - 7ms/step\n",
      "Epoch 28/50\n",
      "2070/2070 - 13s - loss: 2.0697 - accuracy: 0.3778 - val_loss: 2.2130 - val_accuracy: 0.3482 - 13s/epoch - 6ms/step\n",
      "Epoch 29/50\n",
      "2070/2070 - 14s - loss: 2.0641 - accuracy: 0.3787 - val_loss: 2.2095 - val_accuracy: 0.3452 - 14s/epoch - 7ms/step\n",
      "Epoch 30/50\n",
      "2070/2070 - 18s - loss: 2.0568 - accuracy: 0.3808 - val_loss: 2.2073 - val_accuracy: 0.3490 - 18s/epoch - 9ms/step\n",
      "Epoch 31/50\n",
      "2070/2070 - 12s - loss: 2.0508 - accuracy: 0.3850 - val_loss: 2.2061 - val_accuracy: 0.3510 - 12s/epoch - 6ms/step\n",
      "Epoch 32/50\n",
      "2070/2070 - 12s - loss: 2.0456 - accuracy: 0.3867 - val_loss: 2.2053 - val_accuracy: 0.3494 - 12s/epoch - 6ms/step\n",
      "Epoch 33/50\n",
      "2070/2070 - 12s - loss: 2.0403 - accuracy: 0.3870 - val_loss: 2.2046 - val_accuracy: 0.3536 - 12s/epoch - 6ms/step\n",
      "Epoch 34/50\n",
      "2070/2070 - 12s - loss: 2.0363 - accuracy: 0.3871 - val_loss: 2.1998 - val_accuracy: 0.3504 - 12s/epoch - 6ms/step\n",
      "Epoch 35/50\n",
      "2070/2070 - 14s - loss: 2.0304 - accuracy: 0.3918 - val_loss: 2.2043 - val_accuracy: 0.3485 - 14s/epoch - 7ms/step\n",
      "Epoch 36/50\n",
      "2070/2070 - 13s - loss: 2.0261 - accuracy: 0.3933 - val_loss: 2.2014 - val_accuracy: 0.3541 - 13s/epoch - 6ms/step\n",
      "Epoch 37/50\n",
      "2070/2070 - 13s - loss: 2.0213 - accuracy: 0.3933 - val_loss: 2.2006 - val_accuracy: 0.3536 - 13s/epoch - 6ms/step\n",
      "Epoch 38/50\n",
      "2070/2070 - 13s - loss: 2.0164 - accuracy: 0.3957 - val_loss: 2.2000 - val_accuracy: 0.3512 - 13s/epoch - 6ms/step\n",
      "Epoch 39/50\n",
      "2070/2070 - 13s - loss: 2.0128 - accuracy: 0.3960 - val_loss: 2.2010 - val_accuracy: 0.3508 - 13s/epoch - 6ms/step\n"
     ]
    }
   ],
   "source": [
    "h = model.fit(\n",
    "    x_train, y_train,\n",
    "    validation_data = (x_test, y_test),\n",
    "    epochs = 50, verbose = 2,\n",
    "    callbacks = [\n",
    "                 tf.keras.callbacks.EarlyStopping(monitor = 'val_accuracy', patience = 3)\n",
    "    ]\n",
    ")"
   ]
  },
  {
   "cell_type": "code",
   "execution_count": 13,
   "id": "84d3a68d",
   "metadata": {},
   "outputs": [],
   "source": [
    "#function that generates a superhero name given a seed\n",
    "def generate_names(seed):\n",
    "  for i in range(0,40):\n",
    "    seq = name_to_seq(seed)\n",
    "    padded = tf.keras.preprocessing.sequence.pad_sequences([seq], padding = 'pre', maxlen = max_len - 1, truncating = 'pre')\n",
    "\n",
    "    #predict a character on a given seed S\n",
    "    pred = model.predict(padded)[0]\n",
    "    pred_char = index_to_char[tf.argmax(pred).numpy()]\n",
    "    \n",
    "    #append the predicted character to seed\n",
    "    seed += pred_char\n",
    "    \n",
    "    #repeat until the predicted character is end of name i.e. '\\t'\n",
    "    if pred_char == '\\t':\n",
    "      break\n",
    "    \n",
    "  #print the value of seed S as the predicted name  \n",
    "  print(seed)"
   ]
  },
  {
   "cell_type": "code",
   "execution_count": 17,
   "id": "b35015b6",
   "metadata": {},
   "outputs": [
    {
     "name": "stdout",
     "output_type": "stream",
     "text": [
      "1/1 [==============================] - 0s 14ms/step\n",
      "1/1 [==============================] - 0s 13ms/step\n",
      "1/1 [==============================] - 0s 13ms/step\n",
      "1/1 [==============================] - 0s 14ms/step\n",
      "1/1 [==============================] - 0s 15ms/step\n",
      "1/1 [==============================] - 0s 16ms/step\n",
      "1/1 [==============================] - 0s 16ms/step\n",
      "1/1 [==============================] - 0s 13ms/step\n",
      "1/1 [==============================] - 0s 14ms/step\n",
      "1/1 [==============================] - 0s 13ms/step\n",
      "1/1 [==============================] - 0s 14ms/step\n",
      "1/1 [==============================] - 0s 13ms/step\n",
      "1/1 [==============================] - 0s 15ms/step\n",
      "1/1 [==============================] - 0s 15ms/step\n",
      "1/1 [==============================] - 0s 14ms/step\n",
      "1/1 [==============================] - 0s 13ms/step\n",
      "1/1 [==============================] - 0s 14ms/step\n",
      "alleming saracher\t\n"
     ]
    }
   ],
   "source": [
    "generate_names('a')"
   ]
  },
  {
   "cell_type": "code",
   "execution_count": 18,
   "id": "3bd721c3",
   "metadata": {},
   "outputs": [
    {
     "name": "stdout",
     "output_type": "stream",
     "text": [
      "1/1 [==============================] - 0s 18ms/step\n",
      "1/1 [==============================] - 0s 15ms/step\n",
      "1/1 [==============================] - 0s 14ms/step\n",
      "1/1 [==============================] - 0s 13ms/step\n",
      "1/1 [==============================] - 0s 14ms/step\n",
      "1/1 [==============================] - 0s 14ms/step\n",
      "1/1 [==============================] - 0s 13ms/step\n",
      "1/1 [==============================] - 0s 14ms/step\n",
      "1/1 [==============================] - 0s 14ms/step\n",
      "1/1 [==============================] - 0s 13ms/step\n",
      "1/1 [==============================] - 0s 14ms/step\n",
      "1/1 [==============================] - 0s 13ms/step\n",
      "1/1 [==============================] - 0s 14ms/step\n",
      "black broeder\t\n"
     ]
    }
   ],
   "source": [
    "generate_names('b')"
   ]
  },
  {
   "cell_type": "code",
   "execution_count": null,
   "id": "da6b0a00",
   "metadata": {},
   "outputs": [],
   "source": []
  }
 ],
 "metadata": {
  "kernelspec": {
   "display_name": "Python 3 (ipykernel)",
   "language": "python",
   "name": "python3"
  },
  "language_info": {
   "codemirror_mode": {
    "name": "ipython",
    "version": 3
   },
   "file_extension": ".py",
   "mimetype": "text/x-python",
   "name": "python",
   "nbconvert_exporter": "python",
   "pygments_lexer": "ipython3",
   "version": "3.10.4"
  }
 },
 "nbformat": 4,
 "nbformat_minor": 5
}
